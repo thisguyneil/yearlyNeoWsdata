{
 "cells": [
  {
   "cell_type": "markdown",
   "id": "2bb7048f",
   "metadata": {},
   "source": [
    "# Project heading and title"
   ]
  },
  {
   "cell_type": "code",
   "execution_count": null,
   "id": "c573142f",
   "metadata": {},
   "outputs": [],
   "source": [
    "import os\n",
    "import requests\n",
    "import json\n",
    "import datetime\n",
    "import pandas as pd \n",
    "import glob"
   ]
  },
  {
   "cell_type": "markdown",
   "id": "a901a65d",
   "metadata": {},
   "source": [
    "# Special instructions about script\n",
    "\n",
    "## Dont run script unless you are downloading the data again, script will download data into \"/data/downloaded\" section\n",
    "\n",
    "## The downloaded data is also located in a folder if you dont want to run the script, located in \"/data/original\"\n",
    "\n",
    "## Read more into this in the readme, section \"API request script\""
   ]
  },
  {
   "cell_type": "code",
   "execution_count": null,
   "id": "de35a653",
   "metadata": {},
   "outputs": [],
   "source": [
    "# Here is the script to download the json files\n",
    "# remove this to activate url: url = \"https://api.nasa.gov/neo/rest/v1/feed\"\n",
    "# remove this and use your API key here: api_key = \"*insert api key here*\"\n",
    "\n",
    "# Specify the start and end dates for the first week and the folder path\n",
    "start_date = \"2022-01-01\"\n",
    "end_date = \"2022-01-07\"\n",
    "folder_path = \"data/downloaded\"\n",
    "\n",
    "# Our api only allows 7 days at a time, so let's iterate over the start and end dates for 7 days at a time (see below)\n",
    "while start_date <= \"2022-12-31\":\n",
    "\n",
    "    parameters = {\n",
    "        \"start_date\": start_date,\n",
    "        \"end_date\": end_date,\n",
    "        \"api_key\": api_key\n",
    "    }\n",
    "\n",
    "    # Here is our actual API request\n",
    "    response = requests.get(url, params=parameters)\n",
    "\n",
    "    # Here we will save the file with a custom filename for the week it contains\n",
    "    if response.status_code == 200:\n",
    "        data = response.json()\n",
    "        asteroids = data[\"near_earth_objects\"]\n",
    "        file_name = f\"week_{start_date}.json\"\n",
    "        file_path = os.path.join(folder_path, file_name)\n",
    "\n",
    "        # Save the json file and output a confirmation that the file was downloaded successfully\n",
    "        with open(file_path, \"w\") as file:\n",
    "            json.dump(asteroids, file)\n",
    "            print(f\"JSON data for {start_date} to {end_date} saved successfully.\")\n",
    "            #If this is successful, you will see 53 success responses, may take 5-10 minutes\n",
    "    else:\n",
    "        print(f\"Failed to retrieve data for {start_date} to {end_date} from the API.\")\n",
    "  \n",
    "        \n",
    "    # Here we can use strptime, strftime from the datetime library to convert the start/end date to datetime elements\n",
    "    # Then we can add 7 days to that datetime element and convert the value back to a string to be used in the request\n",
    "    start_date = (datetime.datetime.strptime(start_date, \"%Y-%m-%d\") + datetime.timedelta(days=7)).strftime(\"%Y-%m-%d\")\n",
    "    end_date = (datetime.datetime.strptime(end_date, \"%Y-%m-%d\") + datetime.timedelta(days=7)).strftime(\"%Y-%m-%d\")"
   ]
  },
  {
   "cell_type": "code",
   "execution_count": null,
   "id": "fce0fcbf",
   "metadata": {},
   "outputs": [],
   "source": []
  }
 ],
 "metadata": {
  "kernelspec": {
   "display_name": "Python 3 (ipykernel)",
   "language": "python",
   "name": "python3"
  },
  "language_info": {
   "codemirror_mode": {
    "name": "ipython",
    "version": 3
   },
   "file_extension": ".py",
   "mimetype": "text/x-python",
   "name": "python",
   "nbconvert_exporter": "python",
   "pygments_lexer": "ipython3",
   "version": "3.9.13"
  }
 },
 "nbformat": 4,
 "nbformat_minor": 5
}
